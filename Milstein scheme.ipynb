{
 "cells": [
  {
   "cell_type": "code",
   "execution_count": 8,
   "metadata": {
    "colab": {},
    "colab_type": "code",
    "id": "00ooTySPr1oZ"
   },
   "outputs": [],
   "source": [
    "import numpy as np\n",
    "import matplotlib.pyplot as plt\n",
    "from math import exp"
   ]
  },
  {
   "cell_type": "code",
   "execution_count": 9,
   "metadata": {},
   "outputs": [],
   "source": [
    "m = 0.8\n",
    "sigma = 0.4\n",
    "x_0 = 11.\n",
    "T = 1.1"
   ]
  },
  {
   "cell_type": "code",
   "execution_count": 12,
   "metadata": {
    "colab": {},
    "colab_type": "code",
    "id": "iH8tDgGyr9Cy"
   },
   "outputs": [],
   "source": [
    "def a(t, x):\n",
    "    return m*x\n",
    "\n",
    "def b(t, x):\n",
    "    return sigma*x\n",
    "\n",
    "def db(t,x):\n",
    "    return sigma\n",
    "\n",
    "def MBS(x0, W, t):\n",
    "    return x0 * exp(sigma*W + (m - 0.5*sigma**2)*t)\n",
    "\n",
    "def Milstein(a, b, n):\n",
    "    X=np.zeros(shape=(n,2))\n",
    "    W = 0\n",
    "\n",
    "    h = float(T/n)\n",
    "    sq_h = np.sqrt(h)\n",
    "\n",
    "    X[0][0]=0.\n",
    "    X[0][1]=x_0   \n",
    "\n",
    "    for i in range (1,n):\n",
    "      X[i][0] = i * h\n",
    "      delta_W = sq_h*np.random.normal(0,1)\n",
    "      X[i][1] = X[i-1][1] + a(X[i-1][0], X[i-1][1])*h + b(X[i-1][0], X[i-1][1])*delta_W + 0.5*db(X[i-1][0], X[i-1][1])*b(X[i-1][0], X[i-1][1])*(X[i][0]-X[i-1][0])*(delta_W**2-1)\n",
    "      W = W + delta_W\n",
    "    return abs(MBS(x_0, W, T) - X[n-1][1])\n",
    "        \n",
    "def Milstein_1(a, b, n): # Milstein bez pochodnych\n",
    "    X=np.zeros(shape=(n,2))\n",
    "    W = 0\n",
    "\n",
    "    h = float(T/n)\n",
    "    sq_h = np.sqrt(h)\n",
    "\n",
    "    X[0][0]=0.\n",
    "    X[0][1]=x_0   \n",
    "\n",
    "    for i in range (1,n):\n",
    "      X[i][0] = i * h\n",
    "      delta_W = sq_h*np.random.normal(0,1)\n",
    "      X[i][1] = X[i-1][1] + a(X[i-1][0], X[i-1][1])*h + b(X[i-1][0], X[i-1][1])*delta_W + 0.5*(b(X[i-1][0], X[i-1][1]+(X[i][0]-X[i-1][0]))-b(X[i-1][0], X[i-1][1]))*b(X[i-1][0], X[i-1][1])*(delta_W**2-1)\n",
    "      W = W + delta_W\n",
    "    return abs(MBS(x_0, W, T) - X[n-1][1])"
   ]
  },
  {
   "cell_type": "code",
   "execution_count": 13,
   "metadata": {
    "colab": {},
    "colab_type": "code",
    "id": "g7t7q3u_shwk"
   },
   "outputs": [],
   "source": [
    "F = []\n",
    "for i in range (1,10):\n",
    "    N = 10 * 2 ** i \n",
    "    e = Milstein(a, b, n)\n",
    "    F.append((N, e))\n",
    "F"
   ]
  },
  {
   "cell_type": "code",
   "execution_count": 0,
   "metadata": {
    "colab": {},
    "colab_type": "code",
    "id": "qJrEiaHly7hO"
   },
   "outputs": [],
   "source": []
  }
 ],
 "metadata": {
  "colab": {
   "collapsed_sections": [],
   "name": "rozwiązanie równania z MBS.ipynb",
   "provenance": []
  },
  "kernelspec": {
   "display_name": "Python 3",
   "language": "python",
   "name": "python3"
  },
  "language_info": {
   "codemirror_mode": {
    "name": "ipython",
    "version": 3
   },
   "file_extension": ".py",
   "mimetype": "text/x-python",
   "name": "python",
   "nbconvert_exporter": "python",
   "pygments_lexer": "ipython3",
   "version": "3.7.3"
  }
 },
 "nbformat": 4,
 "nbformat_minor": 1
}
