{
  "nbformat": 4,
  "nbformat_minor": 0,
  "metadata": {
    "colab": {
      "name": "PROJEKT_SDE_MAZUREK_KACHEL.ipynb",
      "provenance": [],
      "collapsed_sections": [
        "FkSqlXP0lqLP",
        "1mL8pJg0h93Z"
      ]
    },
    "kernelspec": {
      "name": "python3",
      "display_name": "Python 3"
    }
  },
  "cells": [
    {
      "cell_type": "code",
      "metadata": {
        "id": "YD1w0DzOf5QN"
      },
      "source": [
        "import numpy as np\n",
        "import pandas as pd\n",
        "from matplotlib import pyplot as plt\n",
        "from scipy import stats"
      ],
      "execution_count": null,
      "outputs": []
    },
    {
      "cell_type": "markdown",
      "metadata": {
        "id": "G3J9hI-uxwsi"
      },
      "source": [
        "W radioastronomii analizuje się sygnały z gwiazd w celu otrzymania oszacowań pewnych charakterystycznych parametrów badanej gwiazdy. Le Gland w swojej pracy doktorskiej *Estimation de paramètres dans les processus stochastiques, en observation incomplète: application à un problème de radio-astronomie* zaproponował postać sygnału jako następujący proces stochastyczny o wartościach zespolonych: \n",
        "\n",
        "$$\\eta_{t} = a\\exp(\\renewcommand{\\di}{i}\\di\\hspace{0.05cm}(b\\hspace{0.1cm} +\\hspace{0.1cm}X_{t}))+r\\xi_{t},$$\n",
        "\n",
        "\n",
        " gdzie $a$ jest amplitudą sygnału, $b$ średnią fazą, $X_{t}$ procesem stochastycznym o rzeczywistych wartościach, reprezentującym turbulencje atmosferyczne. Ponadto, $\\xi_{t}$ jest gaussowskim białym szumem o zespolonych wartościach, modelującym błędy pomiarów, a $r$ to różna od zera liczba rzeczywista. Dla danego procesu $X_{t}$ równanie może zostać przedstawione jako układ trzech równań:"
      ]
    },
    {
      "cell_type": "markdown",
      "metadata": {
        "id": "FkSqlXP0lqLP"
      },
      "source": [
        "## Turbulencje atmosferyczne zadane procesem Ornsteina-Uhlenbecka\n",
        "\\begin{cases}dY_{t}^{1} \\hspace{0.1cm}= \\hspace{0.1cm}a\\cos(b\\hspace{0.1cm}+\\hspace{0.1cm}X_{t})\\hspace{0.05cm}dt\\hspace{0.1cm}+\\hspace{0.1cm}r\\hspace{0.05cm}dW_{t}^{1} \\\\ \n",
        "dY_{t}^{2}\\hspace{0.1cm}= \\hspace{0.1cm}a\\sin(b\\hspace{0.1cm}+\\hspace{0.1cm}X_{t})\\hspace{0.05cm}dt\\hspace{0.1cm}+\\hspace{0.1cm}r\\hspace{0.05cm}dW_{t}^{2}\\\\\n",
        "dX_{t}\\hspace{0.1cm}=\\hspace{0.1cm}-\\beta X_{t}\\hspace{0.05cm}dt\\hspace{0.1cm}+\\hspace{0.1cm}\\sigma\\sqrt{2\\beta}\\hspace{0.05cm}dW_{t}^{3}\\end{cases}\n"
      ]
    },
    {
      "cell_type": "markdown",
      "metadata": {
        "id": "PUrW-Xjl2YvZ"
      },
      "source": [
        "Le Gland we wspomnianej wcześniej pracy doktorskiej rozważał turbulencje atmosferyczne zadane procesem Ornsteina-Uhlenbecka oraz wyestymował poniższe wartości parametrów $r,\\sigma,\\beta,a,b$, natomiast wartości początkowe zostały dobrane przez nas."
      ]
    },
    {
      "cell_type": "code",
      "metadata": {
        "id": "LXhYP1aM2Tx3"
      },
      "source": [
        "r = 0.25\n",
        "sigma = 1.0\n",
        "beta = 0.2\n",
        "sq_beta = np.sqrt(2*beta)\n",
        "a = 1.0\n",
        "b = 0.0\n",
        "\n",
        "y_1_0 = 2.0\n",
        "y_2_0 = 0.5\n",
        "x_0 = 0.2\n",
        "T = 2.0"
      ],
      "execution_count": null,
      "outputs": []
    },
    {
      "cell_type": "code",
      "metadata": {
        "id": "LzniJFt0K1ta"
      },
      "source": [
        "# n_rz - liczba punktów siatki rzadkiej\n",
        "# n_g - podział siatki rzadkiej na gęstą\n",
        "# oblicz rozwiazanie w siatkach o n_rz i n_rz*n_g punktach\n",
        "\n",
        "def A(t, x):\n",
        "  return a*np.cos(b + x), a*np.sin(b + x), -beta*x\n",
        "  \n",
        "B = [r, r, sigma*sq_beta]\n",
        "\n",
        "def Euler(n_rz, n_g): \n",
        "  t_rz = 0.0\n",
        "  t_g = 0.0\n",
        "\n",
        "  h_rz = float(T/n_rz) # siatka rzadka\n",
        "  h_sqrt_rz = np.sqrt(h_rz)\n",
        "\n",
        "  h_g = float(h_rz/n_g) # siatka gęsta\n",
        "  h_sqrt_g = np.sqrt(h_g)\n",
        "\n",
        "  Y_1_g = y_1_0 # rozwiązanie na siatce gęstej\n",
        "  Y_2_g = y_2_0\n",
        "  X_g = x_0\n",
        "  t_temp_g = 0.0\n",
        "  t_temp_rz = 0.0\n",
        "  Y_1_g_temp = y_1_0 \n",
        "  Y_2_g_temp = y_2_0\n",
        "  X_g_temp = x_0\n",
        "  Y_1_rz = y_1_0 # rozwiązanie na siatce rzadkiej\n",
        "  Y_2_rz = y_2_0\n",
        "  X_rz = x_0\n",
        "  Y_1_rz_temp = y_1_0 \n",
        "  Y_2_rz_temp = y_2_0\n",
        "  X_rz_temp = x_0\n",
        "  W1_1 = 0.0\n",
        "  W1_2 = 0.0\n",
        "  W1 = 0.0\n",
        "  W2_1 = 0.0\n",
        "  W2_2 = 0.0\n",
        "  W2 = 0.0 # bieżąca wartość procesu Wienera\n",
        "\n",
        "  for i in range(1, n_rz+1):\n",
        "    for j in range(1, n_g+1):\n",
        "      t_g = t_rz + h_g*j # podział gęsty\n",
        "      dW_1 = np.random.normal(0, h_sqrt_g)\n",
        "      dW_2 = np.random.normal(0, h_sqrt_g)\n",
        "      dW = np.random.normal(0, h_sqrt_g)\n",
        "      W2_1 += dW_1\n",
        "      W2_2 += dW_2\n",
        "      W2 += dW\n",
        "      A_temp_g = A(t_temp_g, X_g_temp)\n",
        "      Y_1_g = Y_1_g_temp + A_temp_g[0]*h_g + B[0]*dW_1\n",
        "      Y_2_g = Y_2_g_temp + A_temp_g[1]*h_g + B[1]*dW_2\n",
        "      X_g = X_g_temp + A_temp_g[2]*h_g + B[2]*dW\n",
        "      Y_1_g_temp = Y_1_g\n",
        "      Y_2_g_temp = Y_2_g\n",
        "      X_g_temp = X_g\n",
        "      t_temp_g = t_g\n",
        "    t_rz = i*h_rz  # podział rzadki\n",
        "    W_1 = W2_1 - W1_1\n",
        "    W_2 = W2_2 - W1_2\n",
        "    W = W2 - W1\n",
        "    A_temp_rz = A(t_temp_rz, X_rz_temp)\n",
        "    Y_1_rz = Y_1_rz_temp + A_temp_rz[0]*h_rz + B[0]*W_1\n",
        "    Y_2_rz = Y_2_rz_temp + A_temp_rz[1]*h_rz + B[1]*W_2\n",
        "    X_rz = X_rz_temp + A_temp_rz[2]*h_rz + B[2]*W\n",
        "    Y_1_rz_temp = Y_1_rz\n",
        "    Y_2_rz_temp = Y_2_rz\n",
        "    X_rz_temp = X_rz\n",
        "    t_temp_rz = t_rz\n",
        "    W1_1 = W2_1\n",
        "    W1_2 = W2_2\n",
        "    W1 = W2\n",
        "  return  Y_1_g, Y_2_g, X_g, Y_1_rz, Y_2_rz, X_rz\n"
      ],
      "execution_count": null,
      "outputs": []
    },
    {
      "cell_type": "code",
      "metadata": {
        "id": "qh7QB7m6ZgAm",
        "colab": {
          "base_uri": "https://localhost:8080/",
          "height": 158
        },
        "outputId": "a1fcd605-5a68-4680-dd73-1162360b0bc5"
      },
      "source": [
        "E = []\n",
        "for i in range (1,9):\n",
        "  e = []\n",
        "  N = 10 * 2 ** i \n",
        "  for j in range(50):\n",
        "    Y_1_g,  Y_2_g, X_g, Y_1_rz, Y_2_rz, X_rz = Euler(N,100)\n",
        "    NORMA = np.sqrt((Y_1_g - Y_1_rz)**2 + (Y_2_g - Y_2_rz)**2 + (X_g - X_rz)**2)\n",
        "    e.append(NORMA)\n",
        "  E.append((N, np.mean(e)))\n",
        "  print(E[i-1])"
      ],
      "execution_count": null,
      "outputs": [
        {
          "output_type": "stream",
          "text": [
            "(20, 0.028708502557899543)\n",
            "(40, 0.016145810331310642)\n",
            "(80, 0.008549936844996955)\n",
            "(160, 0.004174146414036793)\n",
            "(320, 0.0017891147262612808)\n",
            "(640, 0.0008871682524299833)\n",
            "(1280, 0.000503672373870153)\n",
            "(2560, 0.00025474836209199035)\n"
          ],
          "name": "stdout"
        }
      ]
    },
    {
      "cell_type": "code",
      "metadata": {
        "id": "GvneMYuWzYm3",
        "colab": {
          "base_uri": "https://localhost:8080/",
          "height": 287
        },
        "outputId": "fb647035-ddab-46ba-e41f-fa55ed3f3ba1"
      },
      "source": [
        "N_ = []\n",
        "err = []\n",
        "for i in E:\n",
        "  N_.append(i[0])\n",
        "  err.append(i[1])\n",
        "d = {'n':N_, 'err':err, 'log n':np.log10(N_), 'log err':np.log10(err)}\n",
        "\n",
        "import pandas as pd\n",
        "df = pd.DataFrame(d)\n",
        "df"
      ],
      "execution_count": null,
      "outputs": [
        {
          "output_type": "execute_result",
          "data": {
            "text/html": [
              "<div>\n",
              "<style scoped>\n",
              "    .dataframe tbody tr th:only-of-type {\n",
              "        vertical-align: middle;\n",
              "    }\n",
              "\n",
              "    .dataframe tbody tr th {\n",
              "        vertical-align: top;\n",
              "    }\n",
              "\n",
              "    .dataframe thead th {\n",
              "        text-align: right;\n",
              "    }\n",
              "</style>\n",
              "<table border=\"1\" class=\"dataframe\">\n",
              "  <thead>\n",
              "    <tr style=\"text-align: right;\">\n",
              "      <th></th>\n",
              "      <th>n</th>\n",
              "      <th>err</th>\n",
              "      <th>log n</th>\n",
              "      <th>log err</th>\n",
              "    </tr>\n",
              "  </thead>\n",
              "  <tbody>\n",
              "    <tr>\n",
              "      <th>0</th>\n",
              "      <td>20</td>\n",
              "      <td>0.028709</td>\n",
              "      <td>1.30103</td>\n",
              "      <td>-1.541989</td>\n",
              "    </tr>\n",
              "    <tr>\n",
              "      <th>1</th>\n",
              "      <td>40</td>\n",
              "      <td>0.016146</td>\n",
              "      <td>1.60206</td>\n",
              "      <td>-1.791940</td>\n",
              "    </tr>\n",
              "    <tr>\n",
              "      <th>2</th>\n",
              "      <td>80</td>\n",
              "      <td>0.008550</td>\n",
              "      <td>1.90309</td>\n",
              "      <td>-2.068037</td>\n",
              "    </tr>\n",
              "    <tr>\n",
              "      <th>3</th>\n",
              "      <td>160</td>\n",
              "      <td>0.004174</td>\n",
              "      <td>2.20412</td>\n",
              "      <td>-2.379432</td>\n",
              "    </tr>\n",
              "    <tr>\n",
              "      <th>4</th>\n",
              "      <td>320</td>\n",
              "      <td>0.001789</td>\n",
              "      <td>2.50515</td>\n",
              "      <td>-2.747362</td>\n",
              "    </tr>\n",
              "    <tr>\n",
              "      <th>5</th>\n",
              "      <td>640</td>\n",
              "      <td>0.000887</td>\n",
              "      <td>2.80618</td>\n",
              "      <td>-3.051994</td>\n",
              "    </tr>\n",
              "    <tr>\n",
              "      <th>6</th>\n",
              "      <td>1280</td>\n",
              "      <td>0.000504</td>\n",
              "      <td>3.10721</td>\n",
              "      <td>-3.297852</td>\n",
              "    </tr>\n",
              "    <tr>\n",
              "      <th>7</th>\n",
              "      <td>2560</td>\n",
              "      <td>0.000255</td>\n",
              "      <td>3.40824</td>\n",
              "      <td>-3.593889</td>\n",
              "    </tr>\n",
              "  </tbody>\n",
              "</table>\n",
              "</div>"
            ],
            "text/plain": [
              "      n       err    log n   log err\n",
              "0    20  0.028709  1.30103 -1.541989\n",
              "1    40  0.016146  1.60206 -1.791940\n",
              "2    80  0.008550  1.90309 -2.068037\n",
              "3   160  0.004174  2.20412 -2.379432\n",
              "4   320  0.001789  2.50515 -2.747362\n",
              "5   640  0.000887  2.80618 -3.051994\n",
              "6  1280  0.000504  3.10721 -3.297852\n",
              "7  2560  0.000255  3.40824 -3.593889"
            ]
          },
          "metadata": {
            "tags": []
          },
          "execution_count": 47
        }
      ]
    },
    {
      "cell_type": "code",
      "metadata": {
        "id": "t--_bfYe4Wa_",
        "colab": {
          "base_uri": "https://localhost:8080/",
          "height": 387
        },
        "outputId": "caefff1c-1937-4209-faaa-bc6560b510d4"
      },
      "source": [
        "from scipy import stats\n",
        "slope, intercept, r_value, p_value, std_err = stats.linregress(df['log n'],df['log err'])\n",
        "\n",
        "mn=np.min(np.log10(N_))\n",
        "mx=np.max(np.log10(N_))\n",
        "\n",
        "X = np.linspace(mn,mx,500)\n",
        "\n",
        "plt.figure(figsize=(11,6))\n",
        "plt.plot(df['log n'],df['log err'], 'o', markersize=10, markerfacecolor='mediumvioletred', label='log(error)')\n",
        "plt.plot(X, slope*X+intercept, color='#00fa9a', linewidth='2', label='y = '+str(slope)+'x + '+str(intercept))\n",
        "plt.xlabel('log of n')\n",
        "plt.ylabel('log of error')\n",
        "plt.legend()\n",
        "plt.show()"
      ],
      "execution_count": null,
      "outputs": [
        {
          "output_type": "display_data",
          "data": {
            "image/png": "[encoded data removed]",
            "text/plain": [
              "<Figure size 792x432 with 1 Axes>"
            ]
          },
          "metadata": {
            "tags": [],
            "needs_background": "light"
          }
        }
      ]
    },
    {
      "cell_type": "markdown",
      "metadata": {
        "id": "iv96AzjMBall"
      },
      "source": [
        "Otrzymaliśmy empiryczne tempo zbieżności bliskie -1, czyli lepsze niż spodziewane $-\\frac{1}{2}$. Prawdopodobnie jest to spowodowane regularnością współczynnika dryfu oraz niezależnością współczynnika dyfuzji od rozwiązania."
      ]
    },
    {
      "cell_type": "markdown",
      "metadata": {
        "id": "1mL8pJg0h93Z"
      },
      "source": [
        "## Turbulencje atmosferyczne zadane procesem Mazurek-Kachla\n",
        "\\begin{cases}dY_{t}^{1} \\hspace{0.1cm}= \\hspace{0.1cm}a\\cos(b\\hspace{0.1cm}+\\hspace{0.1cm}X_{t})\\hspace{0.05cm}dt\\hspace{0.1cm}+\\hspace{0.1cm}r\\hspace{0.05cm}dW_{t}^{1} \\\\ \n",
        "dY_{t}^{2}\\hspace{0.1cm}= \\hspace{0.1cm}a\\sin(b\\hspace{0.1cm}+\\hspace{0.1cm}X_{t})\\hspace{0.05cm}dt\\hspace{0.1cm}+\\hspace{0.1cm}r\\hspace{0.05cm}dW_{t}^{2}\\\\\n",
        "dX_{t}\\hspace{0.1cm}=\\hspace{0.1cm}-X_{t}e^{-t^{2}+1}\\hspace{0.05cm}dt\\hspace{0.1cm}+\\hspace{0.1cm}tX_{t}\\hspace{0.05cm}dW_{t}^{1}\\hspace{0.1cm}+\\hspace{0.1cm}(1-t)\\hspace{0.05cm}dW_{t}^{2}\\hspace{0.1cm}+\\hspace{0.1cm}\\frac{\\sin X_{t}}{t+1}\\hspace{0.05cm}dW_{t}^{3}\\end{cases}\n"
      ]
    },
    {
      "cell_type": "markdown",
      "metadata": {
        "id": "ndZg81I63O0Q"
      },
      "source": [
        "$X_{t}$ dobraliśmy tak aby współczynnik dyfuzji zależał od rozwiązania układu, a w rezultacie aby empiryczny rząd zbieżności spadł do spodziewanej wartości $-\\frac{1}{2}$."
      ]
    },
    {
      "cell_type": "code",
      "metadata": {
        "id": "CTuDaP7hLerA"
      },
      "source": [
        "# n_rz - liczba punktów siatki rzadkiej\n",
        "# n_g - podział siatki rzadkiej na gęstą\n",
        "# oblicz rozwiazanie w siatkach o n_rz i n_rz*n_g punktach\n",
        "\n",
        "def A_1(t, x):\n",
        "  return a*np.cos(b + x), a*np.sin(b + x), -x*np.exp(-t**2+1)\n",
        "\n",
        "def B_1(t, x):\n",
        "  return [r, r, [x*t, 1-t, np.sin(x)/(t+1)]]\n",
        "\n",
        "def Euler_1(n_rz, n_g): \n",
        "  t_rz = 0.0\n",
        "  t_g = 0.0\n",
        "\n",
        "  h_rz = float(T/n_rz) # siatka rzadka\n",
        "  h_sqrt_rz = np.sqrt(h_rz)\n",
        "\n",
        "  h_g = float(h_rz/n_g) # siatka gęsta\n",
        "  h_sqrt_g = np.sqrt(h_g)\n",
        "\n",
        "  Y_1_g = y_1_0 # rozwiązanie na siatce gęstej\n",
        "  Y_2_g = y_2_0\n",
        "  X_g = x_0\n",
        "  t_temp_g = 0.0\n",
        "  t_temp_rz = 0.0\n",
        "  Y_1_g_temp = y_1_0 \n",
        "  Y_2_g_temp = y_2_0\n",
        "  X_g_temp = x_0\n",
        "  Y_1_rz = y_1_0 # rozwiązanie na siatce rzadkiej\n",
        "  Y_2_rz = y_2_0\n",
        "  X_rz = x_0\n",
        "  Y_1_rz_temp = y_1_0 \n",
        "  Y_2_rz_temp = y_2_0\n",
        "  X_rz_temp = x_0\n",
        "  W1_1 = 0.0\n",
        "  W1_2 = 0.0\n",
        "  W1 = 0.0\n",
        "  W2_1 = 0.0\n",
        "  W2_2 = 0.0\n",
        "  W2 = 0.0 # bieżąca wartość procesu Wienera\n",
        "\n",
        "  for i in range(1, n_rz+1):\n",
        "    for j in range(1, n_g+1):\n",
        "      t_g = t_rz + h_g*j # podział gęsty\n",
        "      dW_1 = np.random.normal(0, h_sqrt_g)\n",
        "      dW_2 = np.random.normal(0, h_sqrt_g)\n",
        "      dW = np.random.normal(0, h_sqrt_g)\n",
        "      W2_1 += dW_1\n",
        "      W2_2 += dW_2\n",
        "      W2 += dW\n",
        "      A_temp_g = A_1(t_temp_g, X_g_temp)\n",
        "      B_temp_g = B_1(t_temp_g, X_g_temp)\n",
        "      Y_1_g = Y_1_g_temp + A_temp_g[0]*h_g + B_temp_g[0]*dW_1\n",
        "      Y_2_g = Y_2_g_temp + A_temp_g[1]*h_g + B_temp_g[1]*dW_2\n",
        "      X_g = X_g_temp + A_temp_g[2]*h_g + B_temp_g[2][0]*dW_1 + B_temp_g[2][1]*dW_2 + B_temp_g[2][2]*dW\n",
        "      Y_1_g_temp = Y_1_g\n",
        "      Y_2_g_temp = Y_2_g\n",
        "      X_g_temp = X_g\n",
        "      t_temp_g = t_g\n",
        "    t_rz = i*h_rz # podział rzadki\n",
        "    W_1 = W2_1 - W1_1\n",
        "    W_2 = W2_2 - W1_2\n",
        "    W = W2 - W1\n",
        "    A_temp_rz = A_1(t_temp_rz, X_rz_temp)\n",
        "    B_temp_rz = B_1(t_temp_rz, X_rz_temp)\n",
        "    Y_1_rz = Y_1_rz_temp + A_temp_rz[0]*h_rz + B_temp_rz[0]*W_1\n",
        "    Y_2_rz = Y_2_rz_temp + A_temp_rz[1]*h_rz + B_temp_rz[1]*W_2\n",
        "    X_rz = X_rz_temp + A_temp_rz[2]*h_rz + B_temp_rz[2][0]*W_1 + B_temp_rz[2][1]*W_2 + B_temp_rz[2][2]*W\n",
        "    Y_1_rz_temp = Y_1_rz\n",
        "    Y_2_rz_temp = Y_2_rz\n",
        "    X_rz_temp = X_rz\n",
        "    t_temp_rz = t_rz\n",
        "    W1_1 = W2_1\n",
        "    W1_2 = W2_2\n",
        "    W1 = W2\n",
        "  return  Y_1_g,  Y_2_g, X_g, Y_1_rz, Y_2_rz, X_rz "
      ],
      "execution_count": null,
      "outputs": []
    },
    {
      "cell_type": "code",
      "metadata": {
        "id": "5A3StNCTmuMm",
        "colab": {
          "base_uri": "https://localhost:8080/",
          "height": 158
        },
        "outputId": "ed197784-9051-411e-8cbc-abdc3f35bbeb"
      },
      "source": [
        "E = []\n",
        "for i in range (1,9):\n",
        "  e = []\n",
        "  N = 10 * 2 ** i \n",
        "  for j in range(50):\n",
        "    Y_1_g,  Y_2_g, X_g, Y_1_rz, Y_2_rz, X_rz = Euler_1(N,100)\n",
        "    NORMA = np.sqrt((Y_1_g - Y_1_rz)**2 + (Y_2_g - Y_2_rz)**2 + (X_g - X_rz)**2)\n",
        "    e.append(NORMA)\n",
        "  E.append((N, np.mean(e)))\n",
        "  print(E[i-1])"
      ],
      "execution_count": null,
      "outputs": [
        {
          "output_type": "stream",
          "text": [
            "(20, 0.3431653457568567)\n",
            "(40, 0.24465495853112035)\n",
            "(80, 0.10624727153878338)\n",
            "(160, 0.16315389651994877)\n",
            "(320, 0.06342495070153782)\n",
            "(640, 0.04233685126210143)\n",
            "(1280, 0.050877083214995907)\n",
            "(2560, 0.02590728569036405)\n"
          ],
          "name": "stdout"
        }
      ]
    },
    {
      "cell_type": "code",
      "metadata": {
        "id": "oMxrc507nw3j",
        "colab": {
          "base_uri": "https://localhost:8080/",
          "height": 287
        },
        "outputId": "a9ef8483-40f5-470b-a46e-c143ce3b0ec4"
      },
      "source": [
        "N_ = []\n",
        "err = []\n",
        "for i in E:\n",
        "  N_.append(i[0])\n",
        "  err.append(i[1])\n",
        "d = {'n':N_, 'err':err, 'log n':np.log10(N_), 'log err':np.log10(err)}\n",
        "\n",
        "import pandas as pd\n",
        "df = pd.DataFrame(d)\n",
        "df"
      ],
      "execution_count": null,
      "outputs": [
        {
          "output_type": "execute_result",
          "data": {
            "text/html": [
              "<div>\n",
              "<style scoped>\n",
              "    .dataframe tbody tr th:only-of-type {\n",
              "        vertical-align: middle;\n",
              "    }\n",
              "\n",
              "    .dataframe tbody tr th {\n",
              "        vertical-align: top;\n",
              "    }\n",
              "\n",
              "    .dataframe thead th {\n",
              "        text-align: right;\n",
              "    }\n",
              "</style>\n",
              "<table border=\"1\" class=\"dataframe\">\n",
              "  <thead>\n",
              "    <tr style=\"text-align: right;\">\n",
              "      <th></th>\n",
              "      <th>n</th>\n",
              "      <th>err</th>\n",
              "      <th>log n</th>\n",
              "      <th>log err</th>\n",
              "    </tr>\n",
              "  </thead>\n",
              "  <tbody>\n",
              "    <tr>\n",
              "      <th>0</th>\n",
              "      <td>20</td>\n",
              "      <td>0.343165</td>\n",
              "      <td>1.30103</td>\n",
              "      <td>-0.464497</td>\n",
              "    </tr>\n",
              "    <tr>\n",
              "      <th>1</th>\n",
              "      <td>40</td>\n",
              "      <td>0.244655</td>\n",
              "      <td>1.60206</td>\n",
              "      <td>-0.611446</td>\n",
              "    </tr>\n",
              "    <tr>\n",
              "      <th>2</th>\n",
              "      <td>80</td>\n",
              "      <td>0.106247</td>\n",
              "      <td>1.90309</td>\n",
              "      <td>-0.973682</td>\n",
              "    </tr>\n",
              "    <tr>\n",
              "      <th>3</th>\n",
              "      <td>160</td>\n",
              "      <td>0.163154</td>\n",
              "      <td>2.20412</td>\n",
              "      <td>-0.787403</td>\n",
              "    </tr>\n",
              "    <tr>\n",
              "      <th>4</th>\n",
              "      <td>320</td>\n",
              "      <td>0.063425</td>\n",
              "      <td>2.50515</td>\n",
              "      <td>-1.197740</td>\n",
              "    </tr>\n",
              "    <tr>\n",
              "      <th>5</th>\n",
              "      <td>640</td>\n",
              "      <td>0.042337</td>\n",
              "      <td>2.80618</td>\n",
              "      <td>-1.373281</td>\n",
              "    </tr>\n",
              "    <tr>\n",
              "      <th>6</th>\n",
              "      <td>1280</td>\n",
              "      <td>0.050877</td>\n",
              "      <td>3.10721</td>\n",
              "      <td>-1.293478</td>\n",
              "    </tr>\n",
              "    <tr>\n",
              "      <th>7</th>\n",
              "      <td>2560</td>\n",
              "      <td>0.025907</td>\n",
              "      <td>3.40824</td>\n",
              "      <td>-1.586578</td>\n",
              "    </tr>\n",
              "  </tbody>\n",
              "</table>\n",
              "</div>"
            ],
            "text/plain": [
              "      n       err    log n   log err\n",
              "0    20  0.343165  1.30103 -0.464497\n",
              "1    40  0.244655  1.60206 -0.611446\n",
              "2    80  0.106247  1.90309 -0.973682\n",
              "3   160  0.163154  2.20412 -0.787403\n",
              "4   320  0.063425  2.50515 -1.197740\n",
              "5   640  0.042337  2.80618 -1.373281\n",
              "6  1280  0.050877  3.10721 -1.293478\n",
              "7  2560  0.025907  3.40824 -1.586578"
            ]
          },
          "metadata": {
            "tags": []
          },
          "execution_count": 54
        }
      ]
    },
    {
      "cell_type": "code",
      "metadata": {
        "id": "tnxAfGw3n7CU",
        "colab": {
          "base_uri": "https://localhost:8080/",
          "height": 387
        },
        "outputId": "4a9afd7c-c46b-42a4-8c1a-f3f74cec14dc"
      },
      "source": [
        "from scipy import stats\n",
        "slope, intercept, r_value, p_value, std_err = stats.linregress(df['log n'],df['log err'])\n",
        "\n",
        "mn=np.min(np.log10(N_))\n",
        "mx=np.max(np.log10(N_))\n",
        "\n",
        "X = np.linspace(mn,mx,500)\n",
        "\n",
        "plt.figure(figsize=(11,6))\n",
        "plt.plot(df['log n'],df['log err'], 'o', markersize=10, markerfacecolor='mediumvioletred', label='log(error)')\n",
        "plt.plot(X, slope*X+intercept, color='#00fa9a', linewidth='2', label='y = '+str(slope)+'x + '+str(intercept))\n",
        "plt.xlabel('log of n')\n",
        "plt.ylabel('log of error')\n",
        "plt.legend()\n",
        "plt.show()"
      ],
      "execution_count": null,
      "outputs": [
        {
          "output_type": "display_data",
          "data": {
            "image/png": "[encoded data removed]",
            "text/plain": [
              "<Figure size 792x432 with 1 Axes>"
            ]
          },
          "metadata": {
            "tags": [],
            "needs_background": "light"
          }
        }
      ]
    }
  ]
}